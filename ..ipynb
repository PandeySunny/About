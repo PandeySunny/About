{
  "nbformat": 4,
  "nbformat_minor": 0,
  "metadata": {
    "colab": {
      "provenance": [],
      "authorship_tag": "ABX9TyNnS1450mmnW2st8Mt5jqNv",
      "include_colab_link": true
    },
    "kernelspec": {
      "name": "python3",
      "display_name": "Python 3"
    },
    "language_info": {
      "name": "python"
    }
  },
  "cells": [
    {
      "cell_type": "markdown",
      "metadata": {
        "id": "view-in-github",
        "colab_type": "text"
      },
      "source": [
        "<a href=\"https://colab.research.google.com/github/PandeySunny/About/blob/main/..ipynb\" target=\"_parent\"><img src=\"https://colab.research.google.com/assets/colab-badge.svg\" alt=\"Open In Colab\"/></a>"
      ]
    },
    {
      "cell_type": "markdown",
      "source": [
        "\n",
        "# Data Science Tools and Ecosystem\n"
      ],
      "metadata": {
        "id": "-BHCc3424hqq"
      }
    },
    {
      "cell_type": "markdown",
      "source": [
        "## Introduction\n",
        "\n",
        "In this notebook, we summarize some of the popular tools, libraries, and languages used by data scientists. Additionally, we demonstrate a few basic arithmetic operations using Python code.\n"
      ],
      "metadata": {
        "id": "mRkKx_n64lY4"
      }
    },
    {
      "cell_type": "markdown",
      "source": [
        "## Data Science Languages\n",
        "\n",
        "Some of the popular languages that Data Scientists use are:\n",
        "\n",
        "1. Python  \n",
        "2. R  \n",
        "3. SQL  \n",
        "4. Julia  \n",
        "5. Scala  \n",
        "6. Java  \n"
      ],
      "metadata": {
        "id": "HlP-jFDV4qPk"
      }
    },
    {
      "cell_type": "markdown",
      "source": [
        "## Data Science Libraries\n",
        "\n",
        "Some of the commonly used libraries used by Data Scientists include:\n",
        "\n",
        "- **Pandas**\n",
        "- **NumPy**\n",
        "- **Matplotlib**\n",
        "- **Scikit-learn**\n",
        "- **TensorFlow**\n",
        "- **Keras**\n"
      ],
      "metadata": {
        "id": "nsVufh6D4r_F"
      }
    },
    {
      "cell_type": "markdown",
      "source": [
        "## Data Science Tools\n",
        "\n",
        "| Category          | Tool               |\n",
        "|------------------|--------------------|\n",
        "| IDE              | Jupyter Notebook   |\n",
        "| IDE              | RStudio            |\n",
        "| Visualization    | Tableau            |\n",
        "| Machine Learning | TensorFlow         |\n",
        "| Machine Learning | Scikit-learn       |\n"
      ],
      "metadata": {
        "id": "Xiq4Xv9S4xdj"
      }
    },
    {
      "cell_type": "markdown",
      "source": [
        "## Arithmetic Expression Examples\n",
        "\n",
        "Below are some examples of simple arithmetic expressions using Python.\n"
      ],
      "metadata": {
        "id": "mOKxC_GU44Mo"
      }
    },
    {
      "cell_type": "markdown",
      "source": [],
      "metadata": {
        "id": "aCQGCzf044Rl"
      }
    },
    {
      "cell_type": "code",
      "source": [
        "#This expression multiplies 3 by 4 and then adds 5\n",
        "(3 * 4) + 5\n"
      ],
      "metadata": {
        "colab": {
          "base_uri": "https://localhost:8080/"
        },
        "id": "JMBTUYB_5Aw-",
        "outputId": "a8dc2c39-99d8-41f4-9ca7-e00a74aacf6a"
      },
      "execution_count": 6,
      "outputs": [
        {
          "output_type": "execute_result",
          "data": {
            "text/plain": [
              "17"
            ]
          },
          "metadata": {},
          "execution_count": 6
        }
      ]
    },
    {
      "cell_type": "code",
      "source": [
        "# This will convert 200 minutes to hours by dividing by 60\n",
        "minutes = 200\n",
        "hours = minutes / 60\n",
        "hours\n"
      ],
      "metadata": {
        "colab": {
          "base_uri": "https://localhost:8080/"
        },
        "id": "MBDKuMGn5IgC",
        "outputId": "df526fdc-f4c2-4ac3-ba67-babb87919fc8"
      },
      "execution_count": 7,
      "outputs": [
        {
          "output_type": "execute_result",
          "data": {
            "text/plain": [
              "3.3333333333333335"
            ]
          },
          "metadata": {},
          "execution_count": 7
        }
      ]
    },
    {
      "cell_type": "markdown",
      "source": [
        "## Objectives\n",
        "\n",
        "- List popular languages for Data Science  \n",
        "- List commonly used libraries  \n",
        "- Use Markdown to create tables  \n",
        "- Perform simple arithmetic operations  \n",
        "- Convert units using Python code\n"
      ],
      "metadata": {
        "id": "51sUke7644U7"
      }
    },
    {
      "cell_type": "markdown",
      "source": [
        "## Author\n",
        "\n",
        "**PANDEY SUNNY**\n"
      ],
      "metadata": {
        "id": "Gw40AALJ5NUG"
      }
    }
  ]
}